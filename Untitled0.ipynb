{
  "nbformat": 4,
  "nbformat_minor": 0,
  "metadata": {
    "colab": {
      "provenance": [],
      "authorship_tag": "ABX9TyPMt3E1nBRz+8PXU6ay3U3+",
      "include_colab_link": true
    },
    "kernelspec": {
      "name": "python3",
      "display_name": "Python 3"
    },
    "language_info": {
      "name": "python"
    }
  },
  "cells": [
    {
      "cell_type": "markdown",
      "metadata": {
        "id": "view-in-github",
        "colab_type": "text"
      },
      "source": [
        "<a href=\"https://colab.research.google.com/github/NicolasAlvess/etl_date_warehouse/blob/master/Untitled0.ipynb\" target=\"_parent\"><img src=\"https://colab.research.google.com/assets/colab-badge.svg\" alt=\"Open In Colab\"/></a>"
      ]
    },
    {
      "cell_type": "code",
      "execution_count": 28,
      "metadata": {
        "colab": {
          "base_uri": "https://localhost:8080/"
        },
        "id": "CWQLiD0BNCFX",
        "outputId": "41e2ee2a-9bc0-49ec-e394-fd8efc907534"
      },
      "outputs": [
        {
          "output_type": "stream",
          "name": "stdout",
          "text": [
            "Conteudo do Data warehouse:\n",
            "           data  produto_id  quantidade  valor_total         nome    categoria\n",
            "0    2024-04-15         147         187         7266  produto 147    Alimentos\n",
            "1    2024-04-27         147          81         8946  produto 147    Alimentos\n",
            "2    2024-04-27          90         157         2496   produto 90  Eletrônicos\n",
            "3    2024-04-18          90         128         4036   produto 90  Eletrônicos\n",
            "4    2024-04-16          90         131         9088   produto 90  Eletrônicos\n",
            "..          ...         ...         ...          ...          ...          ...\n",
            "995  2024-04-08         150         171         7165  produto 150    Alimentos\n",
            "996  2024-04-13         488         110         8657  produto 488    Alimentos\n",
            "997  2024-04-11         161         113         8183  produto 161  Eletrônicos\n",
            "998  2024-04-20         205         122         7755  produto 205  Eletrônicos\n",
            "999  2024-04-05          33         141         5637   produto 33  Eletrônicos\n",
            "\n",
            "[1000 rows x 6 columns]\n"
          ]
        }
      ],
      "source": [
        "import pandas as pd\n",
        "import numpy as np\n",
        "\n",
        "#Aqui o codigo cria 600 produtos com id, nome e categoria.\n",
        "num_produtos = 600\n",
        "produtos = {\n",
        "    'produto_id': range(1, num_produtos + 1),\n",
        "    'nome': [f'produto {i}'for i in range(1, num_produtos + 1)],\n",
        "    'categoria': np.random.choice(['Eletrônicos', 'Roupas', 'Alimentos'], num_produtos)\n",
        "}\n",
        "\n",
        "#Cria um Data Frame do Pandas apartir de um dicionario ou lista de produtos.\n",
        "df_produtos = pd.DataFrame(produtos)\n",
        "\n",
        "#\n",
        "\n",
        "num_vendas = 1000 # Cria uma lista de 1000 \"vendas\"\n",
        "data_vendas = {\n",
        "    'data': np.random.choice(pd.date_range('2024-04-01', periods=30), num_vendas), #cria arrays com datas aleatorias iniciadas em 2024-04-01 e com 30 datas\n",
        "    'produto_id': np.random.randint(1, num_produtos + 1, num_vendas),\n",
        "    'quantidade': np.random.randint(50, 200, num_vendas), #\n",
        "    'valor_total': np.random.randint(1000, 10000, num_vendas) #\n",
        "}\n",
        "\n",
        "#\n",
        "df_vendas = pd.DataFrame(data_vendas)\n",
        "\n",
        "#\n",
        "df_vendas.to_csv('vendas.csv', index=False)\n",
        "df_produtos.to_csv('produtos.csv', index=False)\n",
        "\n",
        "#\n",
        "df_vendas = pd.read_csv('vendas.csv')\n",
        "df_produtos = pd.read_csv('produtos.csv')\n",
        "\n",
        "#\n",
        "df_merge = pd.merge(df_vendas, df_produtos, on ='produto_id', how='inner')\n",
        "\n",
        "#\n",
        "df_merge.to_csv('data_warehouse.csv', index=False)\n",
        "\n",
        "#\n",
        "df_warehouse = pd.read_csv('data_warehouse.csv')\n",
        "print(\"Conteudo do Data warehouse:\")\n",
        "print(df_warehouse)\n"
      ]
    },
    {
      "cell_type": "code",
      "source": [
        "import pandas as pd\n",
        "import matplotlib.pyplot as plt\n",
        "\n",
        "# lê um arquivo CSV chamado 'data_warehouse.csv' e armazena seus dados em um DataFrame do Pandas chamado df_warehouse.\n",
        "df_warehouse = pd.read_csv('data_warehouse.csv')\n",
        "\n",
        "#Esse código agrupa os dados do DataFrame df_warehouse pela coluna 'nome' (que representa o nome do produto)\n",
        "# e depois calcula a soma das colunas 'quantidade' e 'valor_total' para cada produto. Em seguida,\n",
        "#ele exibe essa análise de vendas por produto, mostrando a quantidade total vendida e o valor total vendido para cada produto.\n",
        "vendas_por_produto = df_warehouse.groupby('nome')[['quantidade', 'valor_total']] .sum()\n",
        "print(\"Analise de vendas por produto:\")\n",
        "print(vendas_por_produto)\n",
        "\n",
        "#Esse código agrupa os dados no DataFrame df_warehouse pela categoria dos produtos e, em seguida, calcula a soma da quantidade e do valor total de vendas para cada categoria.\n",
        "#O resultado é armazenado na variável vendas_por_categoria e posteriormente exibido como uma análise de vendas por categoria de produto.\n",
        "vendas_por_categoria = df_warehouse.groupby('categoria')[['quantidade', 'valor_total']] .sum()\n",
        "print(\"\\nAnalise de vendas por categoria de produto produto:\")\n",
        "print(vendas_por_produto)\n",
        "\n",
        "#Esse código converte a coluna 'data' do DataFrame 'df_warehouse' em um formato de data e hora utilizando a função 'pd.to_datetime'.\n",
        "# Em seguida, ele agrupa o DataFrame por data e realiza a soma das colunas 'quantidade' e 'valor_total', criando um novo DataFrame com essas informações.\n",
        "#Por fim, imprime na tela a análise de tendências temporais com base nas vendas por data, mostrando a quantidade total vendida e o valor total das vendas para cada data.\n",
        "df_warehouse['data'] = pd.to_datetime(df_warehouse['data'])\n",
        "vendas_por_data = df_warehouse.groupby('data')[['quantidade', 'valor_total']] .sum()\n",
        "print(\"\\nAnalise de tendências temporais:\")\n",
        "print(vendas_por_data)\n",
        "\n",
        "#Esse código gera um gráfico de linha que mostra a quantidade de vendas ao longo do tempo.\n",
        "#Ele utiliza as datas como o eixo x e a quantidade vendida como o eixo y.\n",
        "plt.figure(figsize=(10, 5 ))\n",
        "plt.plot(vendas_por_data.index, vendas_por_data ['quantidade'], marker='o', linestyle='-')\n",
        "plt.title('vendas ao longo do tempo')\n",
        "plt.xlabel('data')\n",
        "plt.ylabel('quantidade vendida')\n",
        "plt.grid(True)\n",
        "plt.show()\n",
        "\n",
        "#Esse código agrupa um DataFrame chamado df_warehouse pela coluna 'nome' e calcula a soma dos valores totais de cada produto.\n",
        "#Em seguida, exibe uma análise do desempenho de cada produto, mostrando a soma dos valores totais para cada um deles.\n",
        "desempenho_produto = df_warehouse.groupby('nome') ['valor_total'].sum()\n",
        "print(\"\\nAnalise de desempenho de produtos:\")\n",
        "print(desempenho_produto)"
      ],
      "metadata": {
        "id": "1jg6nNYQQX-w",
        "colab": {
          "base_uri": "https://localhost:8080/",
          "height": 1000
        },
        "outputId": "03b659dd-e459-427c-a160-5d954e76f6f3"
      },
      "execution_count": 29,
      "outputs": [
        {
          "output_type": "stream",
          "name": "stdout",
          "text": [
            "Analise de vendas por produto:\n",
            "             quantidade  valor_total\n",
            "nome                                \n",
            "produto 1           165         9849\n",
            "produto 100         250        16530\n",
            "produto 101         288        15859\n",
            "produto 102         760        23523\n",
            "produto 103         263        22560\n",
            "...                 ...          ...\n",
            "produto 94           74         8627\n",
            "produto 95           98         9542\n",
            "produto 96           59         6007\n",
            "produto 97          296        24311\n",
            "produto 99          361        24853\n",
            "\n",
            "[483 rows x 2 columns]\n",
            "\n",
            "Analise de vendas por categoria de produto produto:\n",
            "             quantidade  valor_total\n",
            "nome                                \n",
            "produto 1           165         9849\n",
            "produto 100         250        16530\n",
            "produto 101         288        15859\n",
            "produto 102         760        23523\n",
            "produto 103         263        22560\n",
            "...                 ...          ...\n",
            "produto 94           74         8627\n",
            "produto 95           98         9542\n",
            "produto 96           59         6007\n",
            "produto 97          296        24311\n",
            "produto 99          361        24853\n",
            "\n",
            "[483 rows x 2 columns]\n",
            "\n",
            "Analise de tendências temporais:\n",
            "            quantidade  valor_total\n",
            "data                               \n",
            "2024-04-01        4864       163578\n",
            "2024-04-02        4785       214912\n",
            "2024-04-03        4163       199575\n",
            "2024-04-04        4076       174999\n",
            "2024-04-05        4005       185864\n",
            "2024-04-06        4056       167808\n",
            "2024-04-07        2434       112149\n",
            "2024-04-08        3714       162517\n",
            "2024-04-09        5897       223123\n",
            "2024-04-10        4310       175533\n",
            "2024-04-11        5205       218702\n",
            "2024-04-12        2744       162244\n",
            "2024-04-13        4416       190436\n",
            "2024-04-14        4334       185123\n",
            "2024-04-15        4380       204317\n",
            "2024-04-16        5439       268068\n",
            "2024-04-17        3614       180144\n",
            "2024-04-18        4345       189631\n",
            "2024-04-19        4400       213520\n",
            "2024-04-20        4389       196374\n",
            "2024-04-21        4076       148302\n",
            "2024-04-22        4324       195609\n",
            "2024-04-23        4366       221276\n",
            "2024-04-24        3710       172722\n",
            "2024-04-25        4796       207405\n",
            "2024-04-26        3629       177643\n",
            "2024-04-27        5353       208583\n",
            "2024-04-28        3814       142252\n",
            "2024-04-29        3577       161609\n",
            "2024-04-30        2722       115160\n"
          ]
        },
        {
          "output_type": "display_data",
          "data": {
            "text/plain": [
              "<Figure size 1000x500 with 1 Axes>"
            ],
            "image/png": "[encoded data removed]"
          },
          "metadata": {}
        },
        {
          "output_type": "stream",
          "name": "stdout",
          "text": [
            "\n",
            "Analise de desempenho de produtos:\n",
            "nome\n",
            "produto 1       9849\n",
            "produto 100    16530\n",
            "produto 101    15859\n",
            "produto 102    23523\n",
            "produto 103    22560\n",
            "               ...  \n",
            "produto 94      8627\n",
            "produto 95      9542\n",
            "produto 96      6007\n",
            "produto 97     24311\n",
            "produto 99     24853\n",
            "Name: valor_total, Length: 483, dtype: int64\n"
          ]
        }
      ]
    },
    {
      "cell_type": "markdown",
      "source": [
        "DATA LAKE"
      ],
      "metadata": {
        "id": "vZ6Peswib36h"
      }
    },
    {
      "cell_type": "code",
      "source": [
        "#\n",
        "if not os.path.exists('data_lake'):\n",
        "  os.makedirs('data_lake')\n",
        "\n",
        "  #\n",
        "  num_files = 10\n",
        "  num_rows_per_file=1000\n",
        "\n",
        "  #\n",
        "  dfs = []\n",
        "\n",
        "  #\n",
        "  for i in range(num_files):\n",
        "    #\n",
        "    data = {\n",
        "        'coluna1': rnd.randin(0, 100, num_rows_per_file),\n",
        "        'coluna2': rnd.randin(num_rows_per_file),\n",
        "        'coluna3': rnd.randin('A', 'B', 'C', num_rows_per_file) }\n",
        "\n",
        "    #\n",
        "    df = pd.DataFrame(data)\n",
        "\n",
        "    #\n",
        "    file_name = f'data_lake/dados_{i+1}.csv'\n",
        "    df.to_csv(file_name, index=False)\n",
        "\n",
        "    #\n",
        "    dfs.append((file_name, df))\n",
        "\n",
        "  print(\"Dados do Data Lake gerados com sucesso!\")\n",
        "\n",
        "  #\n",
        "  for file_name, df in dfs:\n",
        "    print(f\"\\nDados do arquivo: {file_name}\\n\")\n",
        "    print(df.head())\n",
        "\n",
        "\n"
      ],
      "metadata": {
        "id": "DST_DiBf0lMZ"
      },
      "execution_count": 30,
      "outputs": []
    },
    {
      "cell_type": "code",
      "source": [
        "!pip install pandas\n",
        "import pandas as pd\n",
        "import numpy as np\n",
        "import os\n",
        "from sqlalchemy import create_engine\n",
        "\n",
        "# verifica se o diretório 'data_lake' já existe. Se o diretório 'data_lake' não existir,\n",
        "# ele cria o diretório 'data_lake' usando a função os.makedirs().\n",
        "if not os.path.exists('data_lake'):\n",
        "  os.makedirs('data_lake')\n",
        "\n",
        "  #declara duas variáveis: num_files com o valor 10 e num_rows_per_file com o valor 1000.\n",
        "  num_files = 10\n",
        "  num_rows_per_file = 1000\n",
        "\n",
        "  #cria uma lista vazia\n",
        "  dfs = []\n",
        "\n",
        "  #cria um loop que irá iterar sobre um número específico de arquivos definido pela variável num_files\n",
        "  for i in range(num_files):\n",
        "\n",
        "    #cria um dicionário chamado 'data' com três chaves\n",
        "    data = {\n",
        "        'coluna1': np.random.randint(0, 100, num_rows_per_file),\n",
        "        'coluna2': np.random.randn(num_rows_per_file),\n",
        "        'coluna3': np.random.choice(['A', 'B', 'C'], num_rows_per_file)\n",
        "    }\n",
        "\n",
        "    #cria um novo DataFrame no pandas usando os dados fornecidos na variável data\n",
        "    df = pd.DataFrame(data)\n",
        "\n",
        "    #código cria um nome de arquivo para salvar um DataFrame em formato CSV no diretório \"data_lake\",usando variavel i para icrementar\n",
        "    #o valor começando em 1 em seguida salva o DataFrame em arquivo csv sem incluir indice\n",
        "    file_name = f'data_lake/dados_{i+1}.csv'\n",
        "    df.to_csv(file_name, index=False)\n",
        "\n",
        "    #adiciona uma tupla contendo um nome de arquivo e um DataFrame a uma lista chamada dfs\n",
        "    dfs.append(df)\n",
        "\n",
        "    print(\"Dados do Data Lake gerados com sucessos!\")\n",
        "\n",
        "    #\n",
        "    #\n",
        "    conn_string= 'sqlite://data_lake.db'\n",
        "\n",
        "    #\n",
        "    engine = create_engine(conn_string)\n",
        "\n",
        "    #\n",
        "    for i, df in enumerate(dfs, 1):\n",
        "      table_name = f'dados_{i}'\n",
        "      df.to_sql(table_name, engine, index=False)"
      ],
      "metadata": {
        "colab": {
          "base_uri": "https://localhost:8080/"
        },
        "id": "XdjCDMxpHEui",
        "outputId": "28eb060f-5b10-4f97-8959-9446826eba05"
      },
      "execution_count": 31,
      "outputs": [
        {
          "output_type": "stream",
          "name": "stdout",
          "text": [
            "Requirement already satisfied: pandas in /usr/local/lib/python3.10/dist-packages (2.0.3)\n",
            "Requirement already satisfied: python-dateutil>=2.8.2 in /usr/local/lib/python3.10/dist-packages (from pandas) (2.8.2)\n",
            "Requirement already satisfied: pytz>=2020.1 in /usr/local/lib/python3.10/dist-packages (from pandas) (2023.4)\n",
            "Requirement already satisfied: tzdata>=2022.1 in /usr/local/lib/python3.10/dist-packages (from pandas) (2024.1)\n",
            "Requirement already satisfied: numpy>=1.21.0 in /usr/local/lib/python3.10/dist-packages (from pandas) (1.25.2)\n",
            "Requirement already satisfied: six>=1.5 in /usr/local/lib/python3.10/dist-packages (from python-dateutil>=2.8.2->pandas) (1.16.0)\n"
          ]
        }
      ]
    },
    {
      "cell_type": "code",
      "source": [
        "\n"
      ],
      "metadata": {
        "id": "HC52eb8uqoW0"
      },
      "execution_count": 15,
      "outputs": []
    },
    {
      "cell_type": "code",
      "source": [
        "import pandas as pd\n",
        "import matplotlib.pyplot as plt\n",
        "import seaborn as sns\n",
        "from sqlalchemy import create_engine\n",
        "\n",
        "#Cria String de conexão (conn) com o banco de dados SQLite.\n",
        "conn_string = 'sqlite:///data_lake.db'\n",
        "engine = create_engine(conn_string)\n",
        "\n",
        "#Esta nomeando a tabela como dados_1 e lê os dados da tabela do banco de dados e carrega em DataFrame.\n",
        "table_name = 'dados_1'\n",
        "\n",
        "df = pd.read_sql_table(table_name, engine)\n",
        "\n",
        "#Exibe primeiras linhas do Data Frame\n",
        "print(\"Primeiras linhas do Data Frame:\")\n",
        "print(df.head())\n",
        "\n",
        "#Exibe informações sobre o DataFrame\n",
        "print(\"\\nInformações sobre o Data Frame:\")\n",
        "print(df.info())\n",
        "\n",
        "#Exibe um resumo estatístico do DataFrame\n",
        "print(\"\\n Resumo estatístico do Data Frame:\")\n",
        "print(df.describe())\n",
        "\n",
        "#Cria e exibe o gráfico de dispersão entre as colunas 'coluna1' e 'coluna2'.\n",
        "plt.figure(figsize=(8, 6))\n",
        "sns.scatterplot(x='coluna1', y='coluna2', data=df)\n",
        "plt.title('Grafico de Dispersão entre coluna1 e coluna2')\n",
        "plt.xlabel('coluna1')\n",
        "plt.ylabel('coluna2')\n",
        "plt.grid(True)\n",
        "plt.show()\n",
        "\n",
        "#Cria e exibe o histograma da coluna 'coluna1'.\n",
        "plt.figure(figsize=(8, 6))\n",
        "sns.histplot(df['coluna1'], bins=20, kde=True)\n",
        "plt.title('Histograma da coluna1')\n",
        "plt.xlabel('coluna1')\n",
        "plt.ylabel('Frequência')\n",
        "plt.grid(True)\n",
        "plt.show()\n",
        "\n",
        "#Cria e exibe o boxplot da coluna 'coluna3' em relação à coluna 'coluna1'.\n",
        "plt.figure(figsize=(8, 6))\n",
        "sns.boxplot(x='coluna3', y='coluna1', data=df)\n",
        "plt.title('Boxplot da coluna3 em relação à coluna1')\n",
        "plt.xlabel('coluna3')\n",
        "plt.ylabel('coluna1')\n",
        "plt.grid(True)\n",
        "plt.show()"
      ],
      "metadata": {
        "colab": {
          "base_uri": "https://localhost:8080/",
          "height": 367
        },
        "id": "O0WH8I7UtWty",
        "outputId": "e3852ab8-2568-4939-f90a-add2557ff7b7"
      },
      "execution_count": 32,
      "outputs": [
        {
          "output_type": "error",
          "ename": "ValueError",
          "evalue": "Table dados_1 not found",
          "traceback": [
            "\u001b[0;31m---------------------------------------------------------------------------\u001b[0m",
            "\u001b[0;31mValueError\u001b[0m                                Traceback (most recent call last)",
            "\u001b[0;32m<ipython-input-32-57c8cd8c4116>\u001b[0m in \u001b[0;36m<cell line: 12>\u001b[0;34m()\u001b[0m\n\u001b[1;32m     10\u001b[0m \u001b[0;31m#Esta nomeando a tabela como dados_1 e lê os dados da tabela do banco de dados e carrega em DataFrame.\u001b[0m\u001b[0;34m\u001b[0m\u001b[0;34m\u001b[0m\u001b[0m\n\u001b[1;32m     11\u001b[0m \u001b[0mtable_name\u001b[0m \u001b[0;34m=\u001b[0m \u001b[0;34m'dados_1'\u001b[0m\u001b[0;34m\u001b[0m\u001b[0;34m\u001b[0m\u001b[0m\n\u001b[0;32m---> 12\u001b[0;31m \u001b[0mdf\u001b[0m \u001b[0;34m=\u001b[0m \u001b[0mpd\u001b[0m\u001b[0;34m.\u001b[0m\u001b[0mread_sql_table\u001b[0m\u001b[0;34m(\u001b[0m\u001b[0mtable_name\u001b[0m\u001b[0;34m,\u001b[0m \u001b[0mengine\u001b[0m\u001b[0;34m)\u001b[0m\u001b[0;34m\u001b[0m\u001b[0;34m\u001b[0m\u001b[0m\n\u001b[0m\u001b[1;32m     13\u001b[0m \u001b[0;34m\u001b[0m\u001b[0m\n\u001b[1;32m     14\u001b[0m \u001b[0;31m#Exibe primeiras linhas do Data Frame\u001b[0m\u001b[0;34m\u001b[0m\u001b[0;34m\u001b[0m\u001b[0m\n",
            "\u001b[0;32m/usr/local/lib/python3.10/dist-packages/pandas/io/sql.py\u001b[0m in \u001b[0;36mread_sql_table\u001b[0;34m(table_name, con, schema, index_col, coerce_float, parse_dates, columns, chunksize, dtype_backend)\u001b[0m\n\u001b[1;32m    336\u001b[0m     \u001b[0;32mwith\u001b[0m \u001b[0mpandasSQL_builder\u001b[0m\u001b[0;34m(\u001b[0m\u001b[0mcon\u001b[0m\u001b[0;34m,\u001b[0m \u001b[0mschema\u001b[0m\u001b[0;34m=\u001b[0m\u001b[0mschema\u001b[0m\u001b[0;34m,\u001b[0m \u001b[0mneed_transaction\u001b[0m\u001b[0;34m=\u001b[0m\u001b[0;32mTrue\u001b[0m\u001b[0;34m)\u001b[0m \u001b[0;32mas\u001b[0m \u001b[0mpandas_sql\u001b[0m\u001b[0;34m:\u001b[0m\u001b[0;34m\u001b[0m\u001b[0;34m\u001b[0m\u001b[0m\n\u001b[1;32m    337\u001b[0m         \u001b[0;32mif\u001b[0m \u001b[0;32mnot\u001b[0m \u001b[0mpandas_sql\u001b[0m\u001b[0;34m.\u001b[0m\u001b[0mhas_table\u001b[0m\u001b[0;34m(\u001b[0m\u001b[0mtable_name\u001b[0m\u001b[0;34m)\u001b[0m\u001b[0;34m:\u001b[0m\u001b[0;34m\u001b[0m\u001b[0;34m\u001b[0m\u001b[0m\n\u001b[0;32m--> 338\u001b[0;31m             \u001b[0;32mraise\u001b[0m \u001b[0mValueError\u001b[0m\u001b[0;34m(\u001b[0m\u001b[0;34mf\"Table {table_name} not found\"\u001b[0m\u001b[0;34m)\u001b[0m\u001b[0;34m\u001b[0m\u001b[0;34m\u001b[0m\u001b[0m\n\u001b[0m\u001b[1;32m    339\u001b[0m \u001b[0;34m\u001b[0m\u001b[0m\n\u001b[1;32m    340\u001b[0m         table = pandas_sql.read_table(\n",
            "\u001b[0;31mValueError\u001b[0m: Table dados_1 not found"
          ]
        }
      ]
    }
  ]
}